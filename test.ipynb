{
 "cells": [
  {
   "cell_type": "code",
   "execution_count": 10,
   "metadata": {},
   "outputs": [],
   "source": [
    "import pandas as pd\n",
    "import geojson as gj\n",
    "import csv\n",
    "\n",
    "\n",
    "dir=(\"/Users/simonrabenmeister/Desktop/Genes_from_Space/bon-in-a-box-pipelines/output/GFS_IndicatorsTool/pop_area_by_habitat/9279d02e04f0d0adf29aa3cff92d775f/pop_habitat_area.tsv\")\n",
    "df = pd.read_csv(dir, sep=\"\\t\")\n",
    "\n",
    "\n",
    "        \n",
    "y2000=df[df.columns[1]]\n",
    "ne_nc=[0.1, 0.5, 0.9]\n",
    "density=[50,100]\n",
    "result = [f * d for d in density for f in ne_nc]\n",
    "\n",
    "\n",
    "pop_size_table= pd.DataFrame([y2000*d for d in result])\n",
    "# Create new column names based on density and ne_nc values\n",
    "new_columns = [f'density:{d}, Ne:Nc:{f}' for d in density for f in ne_nc]\n",
    "pop_size_table.index = new_columns\n",
    "\n",
    "file=\"/Users/simonrabenmeister/Desktop/Genes_from_Space/Genes_from_Space_interface/Test files/population_polygons_switzerland.geojson\"\n",
    "poly_file = gj.load(open(file))\n",
    "\n",
    "\n",
    "# Remove all feature elements that have properties['pop'] not equal to 'pop_1', 'pop_2', 'pop_3'\n",
    "poly_file['features'] = [feature for feature in poly_file['features'] if feature['properties'].get('pop') in ['pop_1', 'pop_2', 'pop_3']]\n",
    "\n",
    "with open(\"/Users/simonrabenmeister/Desktop/Genes_from_Space/Genes_from_Space_interface/Test files/population_polygons_switzerland.geojson\", \"w\") as f:\n",
    "    gj.dump(poly_file, f)\n",
    "\n",
    "\n",
    "\n",
    "\n"
   ]
  },
  {
   "cell_type": "code",
   "execution_count": null,
   "metadata": {},
   "outputs": [
    {
     "name": "stdout",
     "output_type": "stream",
     "text": [
      "32\n",
      "{'pop': 'pop_11', 'size': [0.0, 0.0]}\n"
     ]
    }
   ],
   "source": [
    "import geojson as gj\n",
    "import json\n",
    "with open(\"/Users/simonrabenmeister/Downloads/population_polygons (8).geojson\") as file:\n",
    "    poly_file = gj.load(file)\n",
    "    \n",
    "numbers = [5.10, 12.90, 0.00, 20.70, 0.00, 0.00, 0.00, 57.90, 0.00, 5.10, 15.60, 29.10, 341.40, 0.00, 13.20, 0.00, 0.00, 0.00, 0.00, 0.00, 0.00, 5.10, 63.00, 0.00, 0.00, 175.20, 184.80, 63.00, 3720.30, 151.20, 5.40, 0.00]\n",
    "numbers2= [12.92, 32.68, 0.00, 52.44, 0.00, 0.00, 0.00, 146.68, 0.00, 12.92, 39.52, 73.92, 864.88, 0.00, 33.44, 0.00, 0.00, 0.00, 0.00, 0.00, 0.00, 12.92, 159.60, 0.00, 0.00, 444.64, 468.16, 159.60, 9405.76, 382.88, 13.04, 0.00]\n",
    "print(len(numbers))\n",
    "\n",
    "\n",
    "for i in range(32):\n",
    "    poly_file[\"features\"][i][\"properties\"][\"size\"]=[numbers[i], numbers2[i]]\n",
    "    \n",
    "print(poly_file[\"features\"][2][\"properties\"])\n",
    "\n",
    "with open(\"/Users/simonrabenmeister/Downloads/population_polygons_sizeincluded.geojson\", \"w\") as f:\n",
    "    json.dump(poly_file, f, )\n",
    "\n"
   ]
  },
  {
   "cell_type": "code",
   "execution_count": 36,
   "metadata": {},
   "outputs": [
    {
     "name": "stdout",
     "output_type": "stream",
     "text": [
      "    Year       Value    pop\n",
      "0   2000  100.000000  pop_1\n",
      "1   2001  101.666667  pop_1\n",
      "2   2003  103.333333  pop_1\n",
      "3   2005  105.000000  pop_1\n",
      "4   2006  106.666667  pop_1\n",
      "5   2008  108.333333  pop_1\n",
      "6   2010  110.000000  pop_1\n",
      "7   2011  111.666667  pop_1\n",
      "8   2013  113.333333  pop_1\n",
      "9   2015  115.000000  pop_1\n",
      "10  2016  116.666667  pop_1\n",
      "11  2018  118.333333  pop_1\n",
      "12  2020  120.000000  pop_1\n",
      "13  2021  121.666667  pop_1\n",
      "14  2023  123.333333  pop_1\n",
      "15  2025  125.000000  pop_1\n",
      "16  2026  126.666667  pop_1\n",
      "17  2028  128.333333  pop_1\n",
      "18  2030  130.000000  pop_1\n",
      "19  2031  131.666667  pop_1\n",
      "20  2033  133.333333  pop_1\n",
      "21  2035  135.000000  pop_1\n",
      "22  2036  136.666667  pop_1\n",
      "23  2038  138.333333  pop_1\n",
      "[2031.66666667 2033.33333333 2035.         2036.66666667 2038.33333333]\n"
     ]
    }
   ],
   "source": [
    "import numpy as np\n",
    "data = {\n",
    "    'Year': ['2000', '2000', '2000', '2000', '2010', '2010', '2010', '2010', '2020', '2020', '2020', '2020', '2030', '2030', '2030', '2030', '2040', '2040', '2040', '2040'],\n",
    "    'Value': [100, 150, 200, 250, 110, 160, 210, 260, 120, 170, 220, 270, 130, 180, 230, 280, 140, 190, 240, 290],\n",
    "    'pop': ['pop_1', 'pop_2', 'pop_3', 'pop_4', 'pop_1', 'pop_2', 'pop_3', 'pop_4', 'pop_1', 'pop_2', 'pop_3', 'pop_4', 'pop_1', 'pop_2', 'pop_3', 'pop_4', 'pop_1', 'pop_2', 'pop_3', 'pop_4']\n",
    "}\n",
    "\n",
    "df = pd.DataFrame(data)\n",
    "# Create a new DataFrame to store the interpolated data\n",
    "new_data = {\n",
    "    'Year': [],\n",
    "    'Value': [],\n",
    "    'pop': []\n",
    "}\n",
    "\n",
    "# Iterate through each unique 'pop' group\n",
    "for pop in df['pop'].unique():\n",
    "    pop_df = df[df['pop'] == pop]\n",
    "    for i in range(len(pop_df) - 1):\n",
    "        num = int(30 / len(pop_df))\n",
    "        # Generate 10 points between start and end year, excluding the start year to avoid duplicates\n",
    "        years = np.linspace(int(pop_df.iloc[i]['Year']), int(pop_df.iloc[i + 1]['Year']), num, endpoint=False)\n",
    "        values = np.linspace(pop_df.iloc[i]['Value'], pop_df.iloc[i + 1]['Value'], num, endpoint=False)\n",
    "        for year, value in zip(years, values):\n",
    "            new_data['Year'].append(int(year))\n",
    "            new_data['Value'].append(value)\n",
    "            new_data['pop'].append(pop)\n",
    "\n",
    "# Convert the new data to a DataFrame\n",
    "new_df = pd.DataFrame(new_data) \n",
    "print(new_df[new_df[\"pop\"]==\"pop_1\"])\n",
    "print(np.linspace(int(pop_df.iloc[i]['Year']), int(pop_df.iloc[i + 1]['Year']), num, endpoint=False)[1:])"
   ]
  },
  {
   "cell_type": "code",
   "execution_count": null,
   "metadata": {},
   "outputs": [],
   "source": []
  },
  {
   "cell_type": "code",
   "execution_count": 40,
   "metadata": {},
   "outputs": [
    {
     "name": "stdout",
     "output_type": "stream",
     "text": [
      "LINESTRING (8 2, 2 8)\n"
     ]
    }
   ],
   "source": [
    "import geopandas as gpd\n",
    "from shapely.geometry import Point, LineString\n",
    "\n",
    "# Example: Create a GeoDataFrame with points\n",
    "import geopandas as gpd\n",
    "from shapely.geometry import shape, LineString\n",
    "\n",
    "# Your feature collection\n",
    "feature_collection = {\n",
    "    \"type\": \"FeatureCollection\",\n",
    "    \"features\": [\n",
    "        {\"type\": \"Feature\", \"geometry\": {\"type\": \"Polygon\", \"coordinates\": [[(0,0), (4,0), (4,4), (0,4), (0,0)]]}, \"properties\":{\n",
    "\"pop\":\"pop_1\"\n",
    "}},\n",
    "        {\"type\": \"Feature\", \"geometry\": {\"type\": \"Polygon\", \"coordinates\": [[(5,5), (9,5), (9,9), (5,9), (5,5)]]}, \"properties\":{\n",
    "\"pop\":\"pop_2\"\n",
    "}}\n",
    "    ]\n",
    "}\n",
    "\n",
    "# Convert the feature collection to a GeoDataFrame\n",
    "features = [feature[\"geometry\"] for feature in feature_collection[\"features\"]]\n",
    "gdf = gpd.GeoDataFrame.from_features(feature_collection[\"features\"])\n",
    "gdf.set_crs(epsg=4326, inplace=True)  # Set the coordinate reference system\n",
    "\n",
    "# Define the dividing line\n",
    "line = LineString([(8, 2), (2, 8)])\n",
    "\n",
    "print(line)"
   ]
  },
  {
   "cell_type": "code",
   "execution_count": 31,
   "metadata": {},
   "outputs": [
    {
     "name": "stdout",
     "output_type": "stream",
     "text": [
      "                              geometry    pop\n",
      "1  POLYGON ((5 5, 9 5, 9 9, 5 9, 5 5))  pop_2                               geometry    pop\n",
      "0  POLYGON ((0 0, 4 0, 4 4, 0 4, 0 0))  pop_1\n"
     ]
    }
   ],
   "source": [
    "from shapely.geometry import Polygon\n",
    "\n",
    "# Function to split features by a line\n",
    "def split_by_line(gdf, line):\n",
    "    above = []\n",
    "    below = []\n",
    "    for idx, row in gdf.iterrows():\n",
    "        polygon = row['geometry']\n",
    "        if polygon.intersects(line):\n",
    "            # If the polygon intersects the line, it could be on both sides\n",
    "            # For simplicity, we'll classify it as \"above\"\n",
    "            above.append(row)\n",
    "        elif polygon.distance(line) > 0:\n",
    "            # Check which side of the line the polygon is on\n",
    "            # Use the centroid to determine the side\n",
    "            centroid = polygon.centroid\n",
    "            if centroid.y > line.interpolate(line.project(centroid)).y:\n",
    "                above.append(row)\n",
    "            else:\n",
    "                below.append(row)\n",
    "    return gpd.GeoDataFrame(above), gpd.GeoDataFrame(below)\n",
    "\n",
    "# Split the features\n",
    "above_line, below_line = split_by_line(gdf, line)\n",
    "print(above_line, below_line)\n"
   ]
  },
  {
   "cell_type": "code",
   "execution_count": 32,
   "metadata": {},
   "outputs": [
    {
     "data": {
      "image/png": "[encoded data removed]",
      "text/plain": [
       "<Figure size 640x480 with 1 Axes>"
      ]
     },
     "metadata": {},
     "output_type": "display_data"
    }
   ],
   "source": [
    "import matplotlib.pyplot as plt\n",
    "\n",
    "fig, ax = plt.subplots()\n",
    "gdf.plot(ax=ax, color='blue', label='Original Points')\n",
    "above_line.plot(ax=ax, color='green', label='Above Line')\n",
    "below_line.plot(ax=ax, color='red', label='Below Line')\n",
    "plt.plot(*line.xy, color='black', label='Dividing Line')\n",
    "plt.legend()\n",
    "plt.show()"
   ]
  }
 ],
 "metadata": {
  "kernelspec": {
   "display_name": "base",
   "language": "python",
   "name": "python3"
  },
  "language_info": {
   "codemirror_mode": {
    "name": "ipython",
    "version": 3
   },
   "file_extension": ".py",
   "mimetype": "text/x-python",
   "name": "python",
   "nbconvert_exporter": "python",
   "pygments_lexer": "ipython3",
   "version": "3.9.12"
  }
 },
 "nbformat": 4,
 "nbformat_minor": 2
}
